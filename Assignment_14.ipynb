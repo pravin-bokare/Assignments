{
 "cells": [
  {
   "cell_type": "markdown",
   "id": "8d75d7d5",
   "metadata": {},
   "source": [
    "# Q1"
   ]
  },
  {
   "cell_type": "markdown",
   "id": "b2acf1ee",
   "metadata": {},
   "source": [
    "Red-Green-Blue-Alpha"
   ]
  },
  {
   "cell_type": "markdown",
   "id": "47c10298",
   "metadata": {},
   "source": [
    "# Q2"
   ]
  },
  {
   "cell_type": "markdown",
   "id": "9756eaa2",
   "metadata": {},
   "source": [
    "imgobj = Image.open('x.png')\n",
    "\n",
    "pixels = imgobj.convert('RGBA')\n",
    "\n",
    "data = imgobj.getdata()"
   ]
  },
  {
   "cell_type": "markdown",
   "id": "600e9be3",
   "metadata": {},
   "source": [
    "# Q3"
   ]
  },
  {
   "cell_type": "markdown",
   "id": "d1cdbc43",
   "metadata": {},
   "source": [
    "tuple submodule provides read-only access for the tuple userdata type"
   ]
  },
  {
   "cell_type": "markdown",
   "id": "ee3a61da",
   "metadata": {},
   "source": [
    "# Q4"
   ]
  },
  {
   "cell_type": "code",
   "execution_count": 9,
   "id": "bb8f5cc1",
   "metadata": {},
   "outputs": [
    {
     "data": {
      "text/plain": [
       "194"
      ]
     },
     "execution_count": 9,
     "metadata": {},
     "output_type": "execute_result"
    }
   ],
   "source": [
    "import PIL\n",
    "from PIL import Image\n",
    "\n",
    "img = Image.open(r'C:\\Users\\pravin\\Downloads/Hanuman.jfif')\n",
    "  \n",
    "img.width"
   ]
  },
  {
   "cell_type": "code",
   "execution_count": 10,
   "id": "73f86443",
   "metadata": {},
   "outputs": [
    {
     "data": {
      "text/plain": [
       "259"
      ]
     },
     "execution_count": 10,
     "metadata": {},
     "output_type": "execute_result"
    }
   ],
   "source": [
    "img.height"
   ]
  },
  {
   "cell_type": "markdown",
   "id": "36637a81",
   "metadata": {},
   "source": [
    "# Q5"
   ]
  },
  {
   "cell_type": "markdown",
   "id": "bc6b0160",
   "metadata": {},
   "source": [
    "Image.getImage()"
   ]
  },
  {
   "cell_type": "markdown",
   "id": "9f502cbc",
   "metadata": {},
   "source": [
    "# Q6"
   ]
  },
  {
   "cell_type": "markdown",
   "id": "0e3ed4b3",
   "metadata": {},
   "source": [
    "Image.save()"
   ]
  },
  {
   "cell_type": "markdown",
   "id": "80c2eab2",
   "metadata": {},
   "source": [
    "# Q7"
   ]
  },
  {
   "cell_type": "markdown",
   "id": "dd22d0ee",
   "metadata": {},
   "source": [
    "ImageDraw()"
   ]
  },
  {
   "cell_type": "markdown",
   "id": "0fb619c8",
   "metadata": {},
   "source": [
    "# Q8"
   ]
  },
  {
   "cell_type": "code",
   "execution_count": null,
   "id": "2ab179e1",
   "metadata": {},
   "outputs": [],
   "source": []
  }
 ],
 "metadata": {
  "kernelspec": {
   "display_name": "Python 3 (ipykernel)",
   "language": "python",
   "name": "python3"
  },
  "language_info": {
   "codemirror_mode": {
    "name": "ipython",
    "version": 3
   },
   "file_extension": ".py",
   "mimetype": "text/x-python",
   "name": "python",
   "nbconvert_exporter": "python",
   "pygments_lexer": "ipython3",
   "version": "3.7.9"
  }
 },
 "nbformat": 4,
 "nbformat_minor": 5
}
