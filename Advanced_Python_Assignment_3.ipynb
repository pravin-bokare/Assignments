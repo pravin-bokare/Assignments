{
 "cells": [
  {
   "cell_type": "markdown",
   "id": "1e918971",
   "metadata": {},
   "source": [
    "# Q1"
   ]
  },
  {
   "cell_type": "markdown",
   "id": "0efed365",
   "metadata": {},
   "source": [
    "An abstract class/superclass can be considered as a blueprint for other classes. It allows you to create a set of methods that must be created within any child classes built from the abstract class. A class which contains one or more abstract methods is called an abstract class.\n",
    "\n",
    "Whereas an abstract method is a method that has a declaration but does not have an implementation"
   ]
  },
  {
   "cell_type": "markdown",
   "id": "4376fd39",
   "metadata": {},
   "source": [
    "# Q2"
   ]
  },
  {
   "cell_type": "markdown",
   "id": "473f0449",
   "metadata": {},
   "source": [
    "When a Class statement's top level contains a basic assignment statement, its usually treated as a class attribute or class level variable.\n",
    "\n",
    "where as assignment statements inside methods are treated as instance attributes or local attributes.\n",
    "\n",
    "When an instance of a class is created a single copy of class attributes is maintained and shared to all instances of class. where as each instance object maintains its own copy of instance variables."
   ]
  },
  {
   "cell_type": "markdown",
   "id": "51eefc4e",
   "metadata": {},
   "source": [
    "# Q3"
   ]
  },
  {
   "cell_type": "raw",
   "id": "b6970eb9",
   "metadata": {},
   "source": [
    "if a child class has __init__ method, then it will not inherit the __init__ method of the parent class. in other words the __init__ method of the child class overrides the __init__ method of the parent class. so we have to manually call a parent superclass's __init__ using super() method"
   ]
  },
  {
   "cell_type": "markdown",
   "id": "f072f9bc",
   "metadata": {},
   "source": [
    "# Q4"
   ]
  },
  {
   "cell_type": "markdown",
   "id": "1024f0f5",
   "metadata": {},
   "source": [
    "super() method can be used to augment, instead of completely replacing, an inherited method."
   ]
  },
  {
   "cell_type": "markdown",
   "id": "79f5e169",
   "metadata": {},
   "source": [
    "# Q5"
   ]
  },
  {
   "cell_type": "markdown",
   "id": "644bd491",
   "metadata": {},
   "source": [
    "A Variable which is defined inside a function is local to that function. it is accesible from the point at which it is defined until the end of the function, and exists for as long as the function is existing.\n",
    "\n",
    "\n",
    "Similary a variable inside of a class also has a local variable scope. Variables which are defined in the class body (but outside all methods) are called as class level variables or class attributes. they can be referenced by there bare names within the same scope, but they can also be accessed from outside this scope if we use the attribute access operator (.). on a class or an instance of the class."
   ]
  },
  {
   "cell_type": "code",
   "execution_count": null,
   "id": "87be3c29",
   "metadata": {},
   "outputs": [],
   "source": []
  }
 ],
 "metadata": {
  "kernelspec": {
   "display_name": "Python 3 (ipykernel)",
   "language": "python",
   "name": "python3"
  },
  "language_info": {
   "codemirror_mode": {
    "name": "ipython",
    "version": 3
   },
   "file_extension": ".py",
   "mimetype": "text/x-python",
   "name": "python",
   "nbconvert_exporter": "python",
   "pygments_lexer": "ipython3",
   "version": "3.7.9"
  }
 },
 "nbformat": 4,
 "nbformat_minor": 5
}
