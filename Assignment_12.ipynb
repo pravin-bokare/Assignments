{
 "cells": [
  {
   "cell_type": "markdown",
   "id": "8b92dec7",
   "metadata": {},
   "source": [
    "# Q1"
   ]
  },
  {
   "cell_type": "markdown",
   "id": "e652b262",
   "metadata": {},
   "source": [
    "binary mode"
   ]
  },
  {
   "cell_type": "markdown",
   "id": "82ce984a",
   "metadata": {},
   "source": [
    "# Q2"
   ]
  },
  {
   "cell_type": "markdown",
   "id": "69dc52ae",
   "metadata": {},
   "source": [
    "Calling getPage(4)Calling getPage(4)"
   ]
  },
  {
   "cell_type": "markdown",
   "id": "1071303c",
   "metadata": {},
   "source": [
    "# Q3"
   ]
  },
  {
   "cell_type": "markdown",
   "id": "473fdfc1",
   "metadata": {},
   "source": [
    "numPages "
   ]
  },
  {
   "cell_type": "markdown",
   "id": "8edff1ce",
   "metadata": {},
   "source": [
    "# Q4"
   ]
  },
  {
   "cell_type": "markdown",
   "id": "6bbf48dd",
   "metadata": {},
   "source": [
    "decrypted by calling .decrypt('swordfish')"
   ]
  },
  {
   "cell_type": "markdown",
   "id": "2f3c651d",
   "metadata": {},
   "source": [
    "# Q5"
   ]
  },
  {
   "cell_type": "markdown",
   "id": "082c262c",
   "metadata": {},
   "source": [
    "using function rotateClockwise()\n"
   ]
  },
  {
   "cell_type": "markdown",
   "id": "6c6252d9",
   "metadata": {},
   "source": [
    "# Q6"
   ]
  },
  {
   "cell_type": "markdown",
   "id": "c3c23cd2",
   "metadata": {},
   "source": [
    "Paragraph Object : A document contains multiple paragraphs. A paragraph begins on a new line and contains multiple runs. The Document object contains a list of Paragraph objects for the paragraphs in the document. (A new paragraph begins whenever the user presses ENTER or RETURN while typing in a Word document.)\n",
    "\n",
    "Run Objects : Runs are contiguous groups of characters within a paragraph with the same style"
   ]
  },
  {
   "cell_type": "markdown",
   "id": "22e08372",
   "metadata": {},
   "source": [
    "# Q7"
   ]
  },
  {
   "cell_type": "markdown",
   "id": "54deb5f9",
   "metadata": {},
   "source": [
    "using \n",
    "\n",
    "doc = docx.Document('abc.docx') \n",
    "\n",
    "doc.paragraphs"
   ]
  },
  {
   "cell_type": "markdown",
   "id": "53dc674b",
   "metadata": {},
   "source": [
    "# Q8"
   ]
  },
  {
   "cell_type": "markdown",
   "id": "42577f3c",
   "metadata": {},
   "source": [
    "Run object"
   ]
  },
  {
   "cell_type": "markdown",
   "id": "61b4e6ca",
   "metadata": {},
   "source": [
    "# Q9"
   ]
  },
  {
   "cell_type": "markdown",
   "id": "5514925d",
   "metadata": {},
   "source": [
    "True and False are specific bool values. Use default False when you have a bool field and you want the default to be False. Don't use False as a value for a non- bool field. None is used as a generic placeholder when the value will be set later."
   ]
  },
  {
   "cell_type": "markdown",
   "id": "11619030",
   "metadata": {},
   "source": [
    "# Q10"
   ]
  },
  {
   "cell_type": "markdown",
   "id": "5362edd7",
   "metadata": {},
   "source": [
    "import aspose.words as aw\n",
    "doc = aw.Document()\n",
    "builder = aw.DocumentBuilder(doc)\n",
    "builder.write(\"Hello world!\")\n",
    "doc.save(\"out.docx\")"
   ]
  },
  {
   "cell_type": "markdown",
   "id": "863ad0ce",
   "metadata": {},
   "source": [
    "# Q11 "
   ]
  },
  {
   "cell_type": "markdown",
   "id": "e8336450",
   "metadata": {},
   "source": [
    "using function add_paragraph('Hello there!')"
   ]
  },
  {
   "cell_type": "markdown",
   "id": "d37a9ef5",
   "metadata": {},
   "source": [
    "# Q12\n"
   ]
  },
  {
   "cell_type": "code",
   "execution_count": null,
   "id": "ce310f85",
   "metadata": {},
   "outputs": [],
   "source": [
    "1 to 4"
   ]
  }
 ],
 "metadata": {
  "kernelspec": {
   "display_name": "Python 3 (ipykernel)",
   "language": "python",
   "name": "python3"
  },
  "language_info": {
   "codemirror_mode": {
    "name": "ipython",
    "version": 3
   },
   "file_extension": ".py",
   "mimetype": "text/x-python",
   "name": "python",
   "nbconvert_exporter": "python",
   "pygments_lexer": "ipython3",
   "version": "3.7.9"
  }
 },
 "nbformat": 4,
 "nbformat_minor": 5
}
